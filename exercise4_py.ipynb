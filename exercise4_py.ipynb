{
 "cells": [
  {
   "cell_type": "code",
   "execution_count": 1,
   "id": "93b69f1e",
   "metadata": {},
   "outputs": [
    {
     "ename": "SyntaxError",
     "evalue": "invalid syntax (4153871747.py, line 9)",
     "output_type": "error",
     "traceback": [
      "\u001b[0;36m  File \u001b[0;32m\"/tmp/ipykernel_6450/4153871747.py\"\u001b[0;36m, line \u001b[0;32m9\u001b[0m\n\u001b[0;31m    Point(49,71)_0_7 FieldElement(223)\u001b[0m\n\u001b[0m                ^\u001b[0m\n\u001b[0;31mSyntaxError\u001b[0m\u001b[0;31m:\u001b[0m invalid syntax\n"
     ]
    }
   ],
   "source": [
    ">>> from ecc import FieldElement, Point\n",
    ">>> prime = 223\n",
    ">>> a = FieldElement(0, prime)\n",
    ">>> b = FieldElement(7, prime)\n",
    ">>> x1 = FieldElement(num=192, prime=prime)\n",
    ">>> y1 = FieldElement(num=105, prime=prime)\n",
    ">>> p = Point(x1,y1,a,b)\n",
    ">>> print(p+p)\n",
    "Point(49,71)_0_7 FieldElement(223)\n",
    ">>> x1 = FieldElement(num=143, prime=prime)\n",
    ">>> y1 = FieldElement(num=98, prime=prime)\n",
    ">>> p = Point(x1,y1,a,b)\n",
    ">>> print(p+p)\n",
    "Point(64,168)_0_7 FieldElement(223)\n",
    ">>> x1 = FieldElement(num=47, prime=prime)\n",
    ">>> y1 = FieldElement(num=71, prime=prime)\n",
    ">>> p = Point(x1,y1,a,b)\n",
    ">>> print(p+p)\n",
    "Point(36,111)_0_7 FieldElement(223)\n",
    ">>> print(p+p+p+p)\n",
    "Point(194,51)_0_7 FieldElement(223)\n",
    ">>> print(p+p+p+p+p+p+p+p)\n",
    "Point(116,55)_0_7 FieldElement(223)\n",
    ">>> print(p+p+p+p+p+p+p+p+p+p+p+p+p+p+p+p+p+p+p+p+p)\n",
    "Point(infinity)"
   ]
  },
  {
   "cell_type": "code",
   "execution_count": null,
   "id": "1c7c8df8",
   "metadata": {},
   "outputs": [],
   "source": []
  }
 ],
 "metadata": {
  "kernelspec": {
   "display_name": "Python 3 (ipykernel)",
   "language": "python",
   "name": "python3"
  },
  "language_info": {
   "codemirror_mode": {
    "name": "ipython",
    "version": 3
   },
   "file_extension": ".py",
   "mimetype": "text/x-python",
   "name": "python",
   "nbconvert_exporter": "python",
   "pygments_lexer": "ipython3",
   "version": "3.9.2"
  }
 },
 "nbformat": 4,
 "nbformat_minor": 5
}
