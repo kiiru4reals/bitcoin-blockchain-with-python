{
 "cells": [
  {
   "cell_type": "code",
   "execution_count": 4,
   "id": "0a6ece8f",
   "metadata": {},
   "outputs": [],
   "source": [
    "@classmethod \n",
    "def  parse(cls,  x,  testnet=False): \n",
    "    version  =  little_endian_to_int(x.read(4)) \n",
    "    return  cls(version,  None,  None,  None,  testnet=testnet)"
   ]
  },
  {
   "cell_type": "code",
   "execution_count": null,
   "id": "03c1373c",
   "metadata": {},
   "outputs": [],
   "source": []
  }
 ],
 "metadata": {
  "kernelspec": {
   "display_name": "Python 3",
   "language": "python",
   "name": "python3"
  },
  "language_info": {
   "codemirror_mode": {
    "name": "ipython",
    "version": 3
   },
   "file_extension": ".py",
   "mimetype": "text/x-python",
   "name": "python",
   "nbconvert_exporter": "python",
   "pygments_lexer": "ipython3",
   "version": "3.8.8"
  }
 },
 "nbformat": 4,
 "nbformat_minor": 5
}
