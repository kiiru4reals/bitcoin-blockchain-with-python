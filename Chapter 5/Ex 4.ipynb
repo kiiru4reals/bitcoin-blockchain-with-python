{
 "cells": [
  {
   "cell_type": "code",
   "execution_count": 2,
   "id": "5541451c",
   "metadata": {},
   "outputs": [],
   "source": [
    "# class Tx:\n",
    "\n",
    "@classmethod\n",
    "def parse(c, a, testnet = False):\n",
    "    version  =  little_endian_to_int(a.read(4)) \n",
    "    numInput  =  read(a)\n",
    "    inputs = []\n",
    "    for i in range(numInput):\n",
    "        inputs.append(TxIn.parse(a))\n",
    "    outputNum  =  read(a) \n",
    "    outputs  =  []\n",
    "    for i in range(outputNum):\n",
    "        outputs.append(TxOut.parse(a))\n",
    "        locktime  =  little_endian_to_int(a.read(4))\n",
    "    return  c(version,  inputs,  outputs,  lcktime,  testnet=testnet)"
   ]
  },
  {
   "cell_type": "code",
   "execution_count": null,
   "id": "2ca26c6c",
   "metadata": {},
   "outputs": [],
   "source": []
  }
 ],
 "metadata": {
  "kernelspec": {
   "display_name": "Python 3",
   "language": "python",
   "name": "python3"
  },
  "language_info": {
   "codemirror_mode": {
    "name": "ipython",
    "version": 3
   },
   "file_extension": ".py",
   "mimetype": "text/x-python",
   "name": "python",
   "nbconvert_exporter": "python",
   "pygments_lexer": "ipython3",
   "version": "3.8.8"
  }
 },
 "nbformat": 4,
 "nbformat_minor": 5
}
