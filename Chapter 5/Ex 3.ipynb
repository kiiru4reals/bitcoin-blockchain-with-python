{
 "cells": [
  {
   "cell_type": "code",
   "execution_count": 1,
   "id": "600292de",
   "metadata": {},
   "outputs": [],
   "source": [
    "# class Tx:\n",
    "\n",
    "@classmethod\n",
    "def parse(y, a, testnet = False):\n",
    "    version  =  little_endian_to_int(a.read(4)) \n",
    "    numInput  =  read(a)\n",
    "    inputs = []\n",
    "    for i in range(numInput):\n",
    "        inputs.append(TxIn.parse(a))\n",
    "    outputNum  =  read(a) \n",
    "    outputs  =  []\n",
    "    for i in range(outputNum):\n",
    "        outputs.append(TxOut.parse(a)) \n",
    "    return  y(version,  inputs,  outputs,  None,  testnet=testnet)"
   ]
  },
  {
   "cell_type": "code",
   "execution_count": 2,
   "id": "0e1bc96a",
   "metadata": {},
   "outputs": [],
   "source": [
    "# class TxOut\n",
    "\n",
    "@classmethod\n",
    "def  parse(b,  x):\n",
    "    amt  =  little_endian_to_int(s.read(8)) \n",
    "    script_pubkey  =  Script.parse(s) \n",
    "    return  b(amt,  script_pubkey)"
   ]
  },
  {
   "cell_type": "code",
   "execution_count": null,
   "id": "5cb5d6e4",
   "metadata": {},
   "outputs": [],
   "source": []
  }
 ],
 "metadata": {
  "kernelspec": {
   "display_name": "Python 3",
   "language": "python",
   "name": "python3"
  },
  "language_info": {
   "codemirror_mode": {
    "name": "ipython",
    "version": 3
   },
   "file_extension": ".py",
   "mimetype": "text/x-python",
   "name": "python",
   "nbconvert_exporter": "python",
   "pygments_lexer": "ipython3",
   "version": "3.8.8"
  }
 },
 "nbformat": 4,
 "nbformat_minor": 5
}
