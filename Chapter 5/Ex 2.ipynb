{
 "cells": [
  {
   "cell_type": "code",
   "execution_count": 1,
   "id": "a1bae6b2",
   "metadata": {},
   "outputs": [],
   "source": [
    "@classmethod \n",
    "def  parse(cls,  x,  testnet=False): \n",
    "    type  =  little_endian_to_int(x.read(4)) \n",
    "    num_inputs  =  var(x) \n",
    "    inputs  =  [] \n",
    "    for  i  in  range(num_inputs): \n",
    "        inputs.append(TxIn.parse(x)) \n",
    "    return  cls(type,  inputs,  None,  None,  testnet=testnet)"
   ]
  },
  {
   "cell_type": "code",
   "execution_count": 3,
   "id": "2c948245",
   "metadata": {},
   "outputs": [],
   "source": [
    "@classmethod\n",
    "def parse(cls, x):\n",
    "    a_tx  =  x.read(32)[::-1] \n",
    "    b_index  =  little_endian_to_int(x.read(4)) \n",
    "    scriptSig =  Script.parse(x) \n",
    "    seq  =  little_endian_to_int(x.read(4)) \n",
    "    return  cls(a_tx,  b_index,  scriptSig,  seq)"
   ]
  },
  {
   "cell_type": "code",
   "execution_count": null,
   "id": "81dee107",
   "metadata": {},
   "outputs": [],
   "source": []
  }
 ],
 "metadata": {
  "kernelspec": {
   "display_name": "Python 3",
   "language": "python",
   "name": "python3"
  },
  "language_info": {
   "codemirror_mode": {
    "name": "ipython",
    "version": 3
   },
   "file_extension": ".py",
   "mimetype": "text/x-python",
   "name": "python",
   "nbconvert_exporter": "python",
   "pygments_lexer": "ipython3",
   "version": "3.8.8"
  }
 },
 "nbformat": 4,
 "nbformat_minor": 5
}
