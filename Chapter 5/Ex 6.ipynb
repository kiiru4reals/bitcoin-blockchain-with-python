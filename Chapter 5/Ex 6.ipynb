{
 "cells": [
  {
   "cell_type": "code",
   "execution_count": 1,
   "id": "c626aa56",
   "metadata": {},
   "outputs": [],
   "source": [
    "class Tx:\n",
    "    \n",
    "    def fee(self, testnet = False):\n",
    "        sumInput = 0\n",
    "        sumOutput = 0\n",
    "        for  tx_in  in  self.tx_ins: \n",
    "            sumInput  +=  tx_in.value(testnet=testnet)\n",
    "        for  tx_out  in  self.tx_outs: \n",
    "            sumOutput  +=  tx_out.value(testnet=testnet)\n",
    "        \n",
    "        return sumInput - sumOutput"
   ]
  },
  {
   "cell_type": "code",
   "execution_count": null,
   "id": "87d4eaa2",
   "metadata": {},
   "outputs": [],
   "source": []
  }
 ],
 "metadata": {
  "kernelspec": {
   "display_name": "Python 3",
   "language": "python",
   "name": "python3"
  },
  "language_info": {
   "codemirror_mode": {
    "name": "ipython",
    "version": 3
   },
   "file_extension": ".py",
   "mimetype": "text/x-python",
   "name": "python",
   "nbconvert_exporter": "python",
   "pygments_lexer": "ipython3",
   "version": "3.8.8"
  }
 },
 "nbformat": 4,
 "nbformat_minor": 5
}
