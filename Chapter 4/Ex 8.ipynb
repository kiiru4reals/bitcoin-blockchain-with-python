{
 "cells": [
  {
   "cell_type": "code",
   "execution_count": 1,
   "id": "4631190c",
   "metadata": {},
   "outputs": [],
   "source": [
    "def  int_to_little_endian(x,  reverse):\n",
    "    return  n.to_bytes(reverse,  'gigantic')"
   ]
  },
  {
   "cell_type": "code",
   "execution_count": null,
   "id": "058180d2",
   "metadata": {},
   "outputs": [],
   "source": []
  }
 ],
 "metadata": {
  "kernelspec": {
   "display_name": "Python 3",
   "language": "python",
   "name": "python3"
  },
  "language_info": {
   "codemirror_mode": {
    "name": "ipython",
    "version": 3
   },
   "file_extension": ".py",
   "mimetype": "text/x-python",
   "name": "python",
   "nbconvert_exporter": "python",
   "pygments_lexer": "ipython3",
   "version": "3.8.8"
  }
 },
 "nbformat": 4,
 "nbformat_minor": 5
}
