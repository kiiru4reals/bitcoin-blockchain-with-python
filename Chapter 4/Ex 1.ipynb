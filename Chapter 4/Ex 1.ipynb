{
 "cells": [
  {
   "cell_type": "code",
   "execution_count": 1,
   "id": "d8843b77",
   "metadata": {},
   "outputs": [
    {
     "ename": "ModuleNotFoundError",
     "evalue": "No module named 'ecc'",
     "output_type": "error",
     "traceback": [
      "\u001b[1;31m---------------------------------------------------------------------------\u001b[0m",
      "\u001b[1;31mModuleNotFoundError\u001b[0m                       Traceback (most recent call last)",
      "\u001b[1;32m<ipython-input-1-2d14abeb4a56>\u001b[0m in \u001b[0;36m<module>\u001b[1;34m\u001b[0m\n\u001b[1;32m----> 1\u001b[1;33m \u001b[1;32mfrom\u001b[0m \u001b[0mecc\u001b[0m \u001b[1;32mimport\u001b[0m \u001b[0mPrivateKey\u001b[0m\u001b[1;33m\u001b[0m\u001b[1;33m\u001b[0m\u001b[0m\n\u001b[0m\u001b[0;32m      2\u001b[0m \u001b[0mpriv\u001b[0m \u001b[1;33m=\u001b[0m \u001b[0mPrivateKey\u001b[0m\u001b[1;33m(\u001b[0m\u001b[1;36m5000\u001b[0m\u001b[1;33m)\u001b[0m\u001b[1;33m\u001b[0m\u001b[1;33m\u001b[0m\u001b[0m\n\u001b[0;32m      3\u001b[0m \u001b[0mprint\u001b[0m\u001b[1;33m(\u001b[0m\u001b[0mpriv\u001b[0m\u001b[1;33m.\u001b[0m\u001b[0mpoint\u001b[0m\u001b[1;33m.\u001b[0m\u001b[0msec\u001b[0m\u001b[1;33m(\u001b[0m\u001b[0mcompressed\u001b[0m\u001b[1;33m=\u001b[0m\u001b[1;32mFalse\u001b[0m\u001b[1;33m)\u001b[0m\u001b[1;33m.\u001b[0m\u001b[0mhex\u001b[0m\u001b[1;33m(\u001b[0m\u001b[1;33m)\u001b[0m\u001b[1;33m)\u001b[0m\u001b[1;33m\u001b[0m\u001b[1;33m\u001b[0m\u001b[0m\n",
      "\u001b[1;31mModuleNotFoundError\u001b[0m: No module named 'ecc'"
     ]
    }
   ],
   "source": [
    "from ecc import PrivateKey\n",
    "priv = PrivateKey(5000)\n",
    "print(priv.point.sec(compressed=False).hex())"
   ]
  },
  {
   "cell_type": "code",
   "execution_count": 2,
   "id": "4b3c4066",
   "metadata": {},
   "outputs": [
    {
     "name": "stdout",
     "output_type": "stream",
     "text": [
      "Collecting eccNote: you may need to restart the kernel to use updated packages.\n",
      "  Downloading ecc-0.0.1.zip (22 kB)\n",
      "Building wheels for collected packages: ecc\n",
      "  Building wheel for ecc (setup.py): started\n",
      "  Building wheel for ecc (setup.py): finished with status 'done'\n",
      "  Created wheel for ecc: filename=ecc-0.0.1-py3-none-any.whl size=20579 sha256=1fd693981ccf6240be6772cda8ca5e74ec19793df9ec6a76ff6d5806089691c1\n",
      "  Stored in directory: c:\\users\\user\\appdata\\local\\pip\\cache\\wheels\\38\\40\\10\\8dee8cda9c0960da925025d10b4d2cffd49e1415e4629edd63\n",
      "Successfully built ecc\n",
      "Installing collected packages: ecc\n",
      "Successfully installed ecc-0.0.1\n",
      "\n"
     ]
    }
   ],
   "source": [
    "pip install ecc"
   ]
  },
  {
   "cell_type": "code",
   "execution_count": 3,
   "id": "0362c634",
   "metadata": {},
   "outputs": [
    {
     "ename": "ImportError",
     "evalue": "cannot import name 'PrivateKey' from 'ecc' (C:\\Users\\user\\anaconda3\\lib\\site-packages\\ecc\\__init__.py)",
     "output_type": "error",
     "traceback": [
      "\u001b[1;31m---------------------------------------------------------------------------\u001b[0m",
      "\u001b[1;31mImportError\u001b[0m                               Traceback (most recent call last)",
      "\u001b[1;32m<ipython-input-3-2d14abeb4a56>\u001b[0m in \u001b[0;36m<module>\u001b[1;34m\u001b[0m\n\u001b[1;32m----> 1\u001b[1;33m \u001b[1;32mfrom\u001b[0m \u001b[0mecc\u001b[0m \u001b[1;32mimport\u001b[0m \u001b[0mPrivateKey\u001b[0m\u001b[1;33m\u001b[0m\u001b[1;33m\u001b[0m\u001b[0m\n\u001b[0m\u001b[0;32m      2\u001b[0m \u001b[0mpriv\u001b[0m \u001b[1;33m=\u001b[0m \u001b[0mPrivateKey\u001b[0m\u001b[1;33m(\u001b[0m\u001b[1;36m5000\u001b[0m\u001b[1;33m)\u001b[0m\u001b[1;33m\u001b[0m\u001b[1;33m\u001b[0m\u001b[0m\n\u001b[0;32m      3\u001b[0m \u001b[0mprint\u001b[0m\u001b[1;33m(\u001b[0m\u001b[0mpriv\u001b[0m\u001b[1;33m.\u001b[0m\u001b[0mpoint\u001b[0m\u001b[1;33m.\u001b[0m\u001b[0msec\u001b[0m\u001b[1;33m(\u001b[0m\u001b[0mcompressed\u001b[0m\u001b[1;33m=\u001b[0m\u001b[1;32mFalse\u001b[0m\u001b[1;33m)\u001b[0m\u001b[1;33m.\u001b[0m\u001b[0mhex\u001b[0m\u001b[1;33m(\u001b[0m\u001b[1;33m)\u001b[0m\u001b[1;33m)\u001b[0m\u001b[1;33m\u001b[0m\u001b[1;33m\u001b[0m\u001b[0m\n",
      "\u001b[1;31mImportError\u001b[0m: cannot import name 'PrivateKey' from 'ecc' (C:\\Users\\user\\anaconda3\\lib\\site-packages\\ecc\\__init__.py)"
     ]
    }
   ],
   "source": [
    "from ecc import PrivateKey\n",
    "priv = PrivateKey(5000)\n",
    "print(priv.point.sec(compressed=False).hex())"
   ]
  },
  {
   "cell_type": "code",
   "execution_count": 4,
   "id": "d7686547",
   "metadata": {},
   "outputs": [
    {
     "ename": "ImportError",
     "evalue": "cannot import name 'PrivateKey' from 'ecc' (C:\\Users\\user\\anaconda3\\lib\\site-packages\\ecc\\__init__.py)",
     "output_type": "error",
     "traceback": [
      "\u001b[1;31m---------------------------------------------------------------------------\u001b[0m",
      "\u001b[1;31mImportError\u001b[0m                               Traceback (most recent call last)",
      "\u001b[1;32m<ipython-input-4-9d15db5ec734>\u001b[0m in \u001b[0;36m<module>\u001b[1;34m\u001b[0m\n\u001b[1;32m----> 1\u001b[1;33m \u001b[1;32mfrom\u001b[0m  \u001b[0mecc\u001b[0m  \u001b[1;32mimport\u001b[0m  \u001b[0mPrivateKey\u001b[0m\u001b[1;33m\u001b[0m\u001b[1;33m\u001b[0m\u001b[0m\n\u001b[0m\u001b[0;32m      2\u001b[0m \u001b[0mpriv\u001b[0m  \u001b[1;33m=\u001b[0m  \u001b[0mPrivateKey\u001b[0m\u001b[1;33m(\u001b[0m\u001b[1;36m5000\u001b[0m\u001b[1;33m)\u001b[0m\u001b[1;33m\u001b[0m\u001b[1;33m\u001b[0m\u001b[0m\n\u001b[0;32m      3\u001b[0m \u001b[0mprint\u001b[0m\u001b[1;33m(\u001b[0m\u001b[0mpriv\u001b[0m\u001b[1;33m.\u001b[0m\u001b[0mpoint\u001b[0m\u001b[1;33m.\u001b[0m\u001b[0msec\u001b[0m\u001b[1;33m(\u001b[0m\u001b[0mcompressed\u001b[0m\u001b[1;33m=\u001b[0m\u001b[1;32mFalse\u001b[0m\u001b[1;33m)\u001b[0m\u001b[1;33m.\u001b[0m\u001b[0mhex\u001b[0m\u001b[1;33m(\u001b[0m\u001b[1;33m)\u001b[0m\u001b[1;33m)\u001b[0m\u001b[1;33m\u001b[0m\u001b[1;33m\u001b[0m\u001b[0m\n",
      "\u001b[1;31mImportError\u001b[0m: cannot import name 'PrivateKey' from 'ecc' (C:\\Users\\user\\anaconda3\\lib\\site-packages\\ecc\\__init__.py)"
     ]
    }
   ],
   "source": [
    "from  ecc  import  PrivateKey \n",
    "priv  =  PrivateKey(5000)\n",
    "print(priv.point.sec(compressed=False).hex())"
   ]
  },
  {
   "cell_type": "code",
   "execution_count": 1,
   "id": "dd0a6600",
   "metadata": {},
   "outputs": [
    {
     "ename": "ImportError",
     "evalue": "cannot import name 'PrivateKey' from 'ecc' (C:\\Users\\user\\anaconda3\\lib\\site-packages\\ecc\\__init__.py)",
     "output_type": "error",
     "traceback": [
      "\u001b[1;31m---------------------------------------------------------------------------\u001b[0m",
      "\u001b[1;31mImportError\u001b[0m                               Traceback (most recent call last)",
      "\u001b[1;32m<ipython-input-1-9d15db5ec734>\u001b[0m in \u001b[0;36m<module>\u001b[1;34m\u001b[0m\n\u001b[1;32m----> 1\u001b[1;33m \u001b[1;32mfrom\u001b[0m  \u001b[0mecc\u001b[0m  \u001b[1;32mimport\u001b[0m  \u001b[0mPrivateKey\u001b[0m\u001b[1;33m\u001b[0m\u001b[1;33m\u001b[0m\u001b[0m\n\u001b[0m\u001b[0;32m      2\u001b[0m \u001b[0mpriv\u001b[0m  \u001b[1;33m=\u001b[0m  \u001b[0mPrivateKey\u001b[0m\u001b[1;33m(\u001b[0m\u001b[1;36m5000\u001b[0m\u001b[1;33m)\u001b[0m\u001b[1;33m\u001b[0m\u001b[1;33m\u001b[0m\u001b[0m\n\u001b[0;32m      3\u001b[0m \u001b[0mprint\u001b[0m\u001b[1;33m(\u001b[0m\u001b[0mpriv\u001b[0m\u001b[1;33m.\u001b[0m\u001b[0mpoint\u001b[0m\u001b[1;33m.\u001b[0m\u001b[0msec\u001b[0m\u001b[1;33m(\u001b[0m\u001b[0mcompressed\u001b[0m\u001b[1;33m=\u001b[0m\u001b[1;32mFalse\u001b[0m\u001b[1;33m)\u001b[0m\u001b[1;33m.\u001b[0m\u001b[0mhex\u001b[0m\u001b[1;33m(\u001b[0m\u001b[1;33m)\u001b[0m\u001b[1;33m)\u001b[0m\u001b[1;33m\u001b[0m\u001b[1;33m\u001b[0m\u001b[0m\n",
      "\u001b[1;31mImportError\u001b[0m: cannot import name 'PrivateKey' from 'ecc' (C:\\Users\\user\\anaconda3\\lib\\site-packages\\ecc\\__init__.py)"
     ]
    }
   ],
   "source": [
    "from  ecc  import  PrivateKey \n",
    "priv  =  PrivateKey(5000)\n",
    "print(priv.point.sec(compressed=False).hex())"
   ]
  },
  {
   "cell_type": "code",
   "execution_count": 1,
   "id": "a293f6d6",
   "metadata": {},
   "outputs": [
    {
     "ename": "ImportError",
     "evalue": "cannot import name 'PrivateKey' from 'ecc' (C:\\Users\\user\\anaconda3\\lib\\site-packages\\ecc\\__init__.py)",
     "output_type": "error",
     "traceback": [
      "\u001b[1;31m---------------------------------------------------------------------------\u001b[0m",
      "\u001b[1;31mImportError\u001b[0m                               Traceback (most recent call last)",
      "\u001b[1;32m<ipython-input-1-af7fa42a60c8>\u001b[0m in \u001b[0;36m<module>\u001b[1;34m\u001b[0m\n\u001b[1;32m----> 1\u001b[1;33m \u001b[1;32mfrom\u001b[0m  \u001b[0mecc\u001b[0m  \u001b[1;32mimport\u001b[0m  \u001b[0mPrivateKey\u001b[0m\u001b[1;33m\u001b[0m\u001b[1;33m\u001b[0m\u001b[0m\n\u001b[0m",
      "\u001b[1;31mImportError\u001b[0m: cannot import name 'PrivateKey' from 'ecc' (C:\\Users\\user\\anaconda3\\lib\\site-packages\\ecc\\__init__.py)"
     ]
    }
   ],
   "source": [
    "from  ecc  import  PrivateKey"
   ]
  },
  {
   "cell_type": "code",
   "execution_count": 3,
   "id": "7a4029b5",
   "metadata": {
    "scrolled": true
   },
   "outputs": [
    {
     "ename": "ImportError",
     "evalue": "cannot import name 'PrivateKey' from 'ecc' (C:\\Users\\user\\anaconda3\\lib\\site-packages\\ecc\\__init__.py)",
     "output_type": "error",
     "traceback": [
      "\u001b[1;31m---------------------------------------------------------------------------\u001b[0m",
      "\u001b[1;31mImportError\u001b[0m                               Traceback (most recent call last)",
      "\u001b[1;32m<ipython-input-3-af7fa42a60c8>\u001b[0m in \u001b[0;36m<module>\u001b[1;34m\u001b[0m\n\u001b[1;32m----> 1\u001b[1;33m \u001b[1;32mfrom\u001b[0m  \u001b[0mecc\u001b[0m  \u001b[1;32mimport\u001b[0m  \u001b[0mPrivateKey\u001b[0m\u001b[1;33m\u001b[0m\u001b[1;33m\u001b[0m\u001b[0m\n\u001b[0m",
      "\u001b[1;31mImportError\u001b[0m: cannot import name 'PrivateKey' from 'ecc' (C:\\Users\\user\\anaconda3\\lib\\site-packages\\ecc\\__init__.py)"
     ]
    }
   ],
   "source": [
    "from  ecc  import  PrivateKey"
   ]
  },
  {
   "cell_type": "code",
   "execution_count": null,
   "id": "a7e8a663",
   "metadata": {},
   "outputs": [],
   "source": []
  }
 ],
 "metadata": {
  "kernelspec": {
   "display_name": "Python 3",
   "language": "python",
   "name": "python3"
  },
  "language_info": {
   "codemirror_mode": {
    "name": "ipython",
    "version": 3
   },
   "file_extension": ".py",
   "mimetype": "text/x-python",
   "name": "python",
   "nbconvert_exporter": "python",
   "pygments_lexer": "ipython3",
   "version": "3.8.8"
  }
 },
 "nbformat": 4,
 "nbformat_minor": 5
}
